{
 "cells": [
  {
   "cell_type": "code",
   "execution_count": 1,
   "id": "25a567b4",
   "metadata": {},
   "outputs": [],
   "source": [
    "from sklearn.datasets import load_iris\n",
    "\n",
    "iris = load_iris()"
   ]
  },
  {
   "cell_type": "code",
   "execution_count": 2,
   "id": "6a2e6db7",
   "metadata": {},
   "outputs": [
    {
     "name": "stderr",
     "output_type": "stream",
     "text": [
      "c:\\python38\\lib\\site-packages\\sklearn\\linear_model\\_logistic.py:814: ConvergenceWarning: lbfgs failed to converge (status=1):\n",
      "STOP: TOTAL NO. of ITERATIONS REACHED LIMIT.\n",
      "\n",
      "Increase the number of iterations (max_iter) or scale the data as shown in:\n",
      "    https://scikit-learn.org/stable/modules/preprocessing.html\n",
      "Please also refer to the documentation for alternative solver options:\n",
      "    https://scikit-learn.org/stable/modules/linear_model.html#logistic-regression\n",
      "  n_iter_i = _check_optimize_result(\n"
     ]
    },
    {
     "data": {
      "text/plain": [
       "LogisticRegression()"
      ]
     },
     "execution_count": 2,
     "metadata": {},
     "output_type": "execute_result"
    }
   ],
   "source": [
    "from sklearn.linear_model import LogisticRegression\n",
    "model = LogisticRegression()\n",
    "\n",
    "model.fit(iris.data, iris.target)"
   ]
  },
  {
   "cell_type": "code",
   "execution_count": 3,
   "id": "1e9f6d5f",
   "metadata": {},
   "outputs": [
    {
     "name": "stdout",
     "output_type": "stream",
     "text": [
      "Metrics report :\n",
      "               precision    recall  f1-score   support\n",
      "\n",
      "           0       1.00      1.00      1.00        50\n",
      "           1       0.98      0.94      0.96        50\n",
      "           2       0.94      0.98      0.96        50\n",
      "\n",
      "    accuracy                           0.97       150\n",
      "   macro avg       0.97      0.97      0.97       150\n",
      "weighted avg       0.97      0.97      0.97       150\n",
      "\n",
      "Log loss : 0.11945659836220292\n"
     ]
    }
   ],
   "source": [
    "from sklearn import metrics\n",
    "\n",
    "target_pred_proba = model.predict_proba(iris.data)\n",
    "target_pred = model.predict(iris.data)\n",
    "\n",
    "report = metrics.classification_report(iris.target,target_pred)\n",
    "\n",
    "log_loss = metrics.log_loss(iris.target, target_pred_proba)\n",
    "\n",
    "print(\"Metrics report :\\n\",report)\n",
    "print(\"Log loss :\",log_loss)"
   ]
  },
  {
   "cell_type": "markdown",
   "id": "3543beab",
   "metadata": {},
   "source": [
    "# Discussion about model's performance"
   ]
  },
  {
   "cell_type": "markdown",
   "id": "c74634d4",
   "metadata": {},
   "source": [
    "- We can see that the model perfectly classified the elements in the first class and missed some values in the other two. But the performance is very good.\n",
    "- Also, for the log loss metric, we can see that it's close to 0, which reflects the good performance of the model."
   ]
  }
 ],
 "metadata": {
  "kernelspec": {
   "display_name": "Python 3 (ipykernel)",
   "language": "python",
   "name": "python3"
  },
  "language_info": {
   "codemirror_mode": {
    "name": "ipython",
    "version": 3
   },
   "file_extension": ".py",
   "mimetype": "text/x-python",
   "name": "python",
   "nbconvert_exporter": "python",
   "pygments_lexer": "ipython3",
   "version": "3.8.3"
  }
 },
 "nbformat": 4,
 "nbformat_minor": 5
}
