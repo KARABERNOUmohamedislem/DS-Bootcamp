{
 "cells": [
  {
   "cell_type": "code",
   "execution_count": 1,
   "id": "3a56c895",
   "metadata": {},
   "outputs": [],
   "source": [
    "from sklearn.datasets import load_breast_cancer\n",
    "\n",
    "breast_cancer = load_breast_cancer()"
   ]
  },
  {
   "cell_type": "code",
   "execution_count": 2,
   "id": "790796c7",
   "metadata": {},
   "outputs": [],
   "source": [
    "from sklearn.model_selection import train_test_split\n",
    "\n",
    "X_train, X_test, y_train, y_test = train_test_split(breast_cancer.data, breast_cancer.target, test_size=0.3)"
   ]
  },
  {
   "cell_type": "code",
   "execution_count": 3,
   "id": "8c050203",
   "metadata": {},
   "outputs": [],
   "source": [
    "import pandas as pd\n",
    "Comparison_table = {\"Algorithm\": [],\n",
    "                    \"Accuracy\": []}"
   ]
  },
  {
   "cell_type": "code",
   "execution_count": 4,
   "id": "def228c1",
   "metadata": {},
   "outputs": [],
   "source": [
    "from sklearn.naive_bayes import GaussianNB\n",
    "from sklearn.svm import SVC\n",
    "from sklearn.tree import DecisionTreeClassifier\n",
    "from sklearn.ensemble import RandomForestClassifier\n",
    "from sklearn.metrics import accuracy_score\n",
    "\n",
    "Comparison_table[\"Algorithm\"].append(\"Naive Bayes\")\n",
    "NB = GaussianNB()\n",
    "NB.fit(X_train,y_train)\n",
    "Comparison_table[\"Accuracy\"].append(accuracy_score(y_test, NB.predict(X_test)))\n",
    "\n",
    "Comparison_table[\"Algorithm\"].append(\"SVM\")\n",
    "svm = SVC()\n",
    "svm.fit(X_train,y_train)\n",
    "Comparison_table[\"Accuracy\"].append(accuracy_score(y_test, svm.predict(X_test)))\n",
    "\n",
    "Comparison_table[\"Algorithm\"].append(\"Decision Tree\")\n",
    "DT = DecisionTreeClassifier(criterion=\"entropy\")\n",
    "DT.fit(X_train,y_train)\n",
    "Comparison_table[\"Accuracy\"].append(accuracy_score(y_test, DT.predict(X_test)))\n",
    "\n",
    "Comparison_table[\"Algorithm\"].append(\"Random Forest\")\n",
    "RF = RandomForestClassifier(n_estimators=10, criterion=\"entropy\", random_state=0)\n",
    "RF.fit(X_train,y_train)\n",
    "Comparison_table[\"Accuracy\"].append(accuracy_score(y_test, RF.predict(X_test)))"
   ]
  },
  {
   "cell_type": "code",
   "execution_count": 5,
   "id": "0185f9ee",
   "metadata": {},
   "outputs": [
    {
     "data": {
      "text/html": [
       "<div>\n",
       "<style scoped>\n",
       "    .dataframe tbody tr th:only-of-type {\n",
       "        vertical-align: middle;\n",
       "    }\n",
       "\n",
       "    .dataframe tbody tr th {\n",
       "        vertical-align: top;\n",
       "    }\n",
       "\n",
       "    .dataframe thead th {\n",
       "        text-align: right;\n",
       "    }\n",
       "</style>\n",
       "<table border=\"1\" class=\"dataframe\">\n",
       "  <thead>\n",
       "    <tr style=\"text-align: right;\">\n",
       "      <th></th>\n",
       "      <th>Algorithm</th>\n",
       "      <th>Accuracy</th>\n",
       "    </tr>\n",
       "  </thead>\n",
       "  <tbody>\n",
       "    <tr>\n",
       "      <th>0</th>\n",
       "      <td>Naive Bayes</td>\n",
       "      <td>0.941520</td>\n",
       "    </tr>\n",
       "    <tr>\n",
       "      <th>1</th>\n",
       "      <td>SVM</td>\n",
       "      <td>0.935673</td>\n",
       "    </tr>\n",
       "    <tr>\n",
       "      <th>2</th>\n",
       "      <td>Decision Tree</td>\n",
       "      <td>0.929825</td>\n",
       "    </tr>\n",
       "    <tr>\n",
       "      <th>3</th>\n",
       "      <td>Random Forest</td>\n",
       "      <td>0.964912</td>\n",
       "    </tr>\n",
       "  </tbody>\n",
       "</table>\n",
       "</div>"
      ],
      "text/plain": [
       "       Algorithm  Accuracy\n",
       "0    Naive Bayes  0.941520\n",
       "1            SVM  0.935673\n",
       "2  Decision Tree  0.929825\n",
       "3  Random Forest  0.964912"
      ]
     },
     "execution_count": 5,
     "metadata": {},
     "output_type": "execute_result"
    }
   ],
   "source": [
    "result_table = pd.DataFrame.from_dict(Comparison_table)\n",
    "result_table"
   ]
  },
  {
   "cell_type": "markdown",
   "id": "507f52de",
   "metadata": {},
   "source": [
    "# Results"
   ]
  },
  {
   "cell_type": "markdown",
   "id": "4c051df7",
   "metadata": {},
   "source": [
    "We can see that the Random forests method returns the best result."
   ]
  }
 ],
 "metadata": {
  "kernelspec": {
   "display_name": "Python 3 (ipykernel)",
   "language": "python",
   "name": "python3"
  },
  "language_info": {
   "codemirror_mode": {
    "name": "ipython",
    "version": 3
   },
   "file_extension": ".py",
   "mimetype": "text/x-python",
   "name": "python",
   "nbconvert_exporter": "python",
   "pygments_lexer": "ipython3",
   "version": "3.8.3"
  }
 },
 "nbformat": 4,
 "nbformat_minor": 5
}
