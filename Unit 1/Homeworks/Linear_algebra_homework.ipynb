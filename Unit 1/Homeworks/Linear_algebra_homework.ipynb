{
 "cells": [
  {
   "cell_type": "markdown",
   "id": "26f7a073",
   "metadata": {},
   "source": [
    "# Linear Algebra Homework"
   ]
  },
  {
   "cell_type": "code",
   "execution_count": 1,
   "id": "d0e4fb1d",
   "metadata": {},
   "outputs": [],
   "source": [
    "import numpy as np\n",
    "from numpy.linalg import norm\n",
    "from PIL import Image"
   ]
  },
  {
   "cell_type": "code",
   "execution_count": 2,
   "id": "49ea295f",
   "metadata": {},
   "outputs": [
    {
     "data": {
      "text/plain": [
       "(720, 960, 3)"
      ]
     },
     "execution_count": 2,
     "metadata": {},
     "output_type": "execute_result"
    }
   ],
   "source": [
    "image = Image.open(\"a.jpg\")\n",
    "image_frame = np.asarray(image)\n",
    "image_frame.shape"
   ]
  },
  {
   "cell_type": "code",
   "execution_count": 3,
   "id": "33ce2e92",
   "metadata": {},
   "outputs": [
    {
     "data": {
      "text/plain": [
       "(3, 960, 720)"
      ]
     },
     "execution_count": 3,
     "metadata": {},
     "output_type": "execute_result"
    }
   ],
   "source": [
    "image_frame_transpose = image_frame.T\n",
    "image_frame_transpose.shape"
   ]
  },
  {
   "cell_type": "code",
   "execution_count": 4,
   "id": "5663ad41",
   "metadata": {},
   "outputs": [
    {
     "data": {
      "text/plain": [
       "False"
      ]
     },
     "execution_count": 4,
     "metadata": {},
     "output_type": "execute_result"
    }
   ],
   "source": [
    "def is_diagonal(X):\n",
    "    return (np.count_nonzero(X - np.diag(np.diagonal(X))) == 0)\n",
    "\n",
    "is_diagonal(image_frame)"
   ]
  },
  {
   "cell_type": "code",
   "execution_count": 5,
   "id": "e1c3336c",
   "metadata": {},
   "outputs": [
    {
     "data": {
      "text/plain": [
       "False"
      ]
     },
     "execution_count": 5,
     "metadata": {},
     "output_type": "execute_result"
    }
   ],
   "source": [
    "def is_lower_triangular(X):\n",
    "    return (np.count_nonzero(X - np.tril(X)) == 0)\n",
    "\n",
    "is_lower_triangular(image_frame)"
   ]
  },
  {
   "cell_type": "code",
   "execution_count": 6,
   "id": "fd956141",
   "metadata": {},
   "outputs": [
    {
     "data": {
      "text/plain": [
       "False"
      ]
     },
     "execution_count": 6,
     "metadata": {},
     "output_type": "execute_result"
    }
   ],
   "source": [
    "def is_upper_triangular(X):\n",
    "    return (np.count_nonzero(X - np.triu(X)) == 0)\n",
    "\n",
    "is_upper_triangular(image_frame)"
   ]
  },
  {
   "cell_type": "code",
   "execution_count": 7,
   "id": "fefa2776",
   "metadata": {},
   "outputs": [
    {
     "data": {
      "text/plain": [
       "(38378.0, 1545.6500250703587)"
      ]
     },
     "execution_count": 7,
     "metadata": {},
     "output_type": "execute_result"
    }
   ],
   "source": [
    "def get_norms(X):\n",
    "    return norm(X,1), norm(X)\n",
    "\n",
    "get_norms(image_frame[:,2,2])"
   ]
  },
  {
   "cell_type": "code",
   "execution_count": null,
   "id": "47605b31",
   "metadata": {},
   "outputs": [],
   "source": []
  }
 ],
 "metadata": {
  "kernelspec": {
   "display_name": "Python 3 (ipykernel)",
   "language": "python",
   "name": "python3"
  },
  "language_info": {
   "codemirror_mode": {
    "name": "ipython",
    "version": 3
   },
   "file_extension": ".py",
   "mimetype": "text/x-python",
   "name": "python",
   "nbconvert_exporter": "python",
   "pygments_lexer": "ipython3",
   "version": "3.8.3"
  }
 },
 "nbformat": 4,
 "nbformat_minor": 5
}
